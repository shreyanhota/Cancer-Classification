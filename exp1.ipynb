{
 "cells": [
  {
   "cell_type": "code",
   "execution_count": 9,
   "metadata": {},
   "outputs": [],
   "source": [
    "import pandas as pd\n",
    "import os\n",
    "\n",
    "cancer_folder=r\"C:\\Users\\shrey\\Downloads\\Dataset\\Dataset\\Cancer\"\n",
    "non_cancer_folder=r\"C:\\Users\\shrey\\Downloads\\Dataset\\Dataset\\Non-Cancer\"\n",
    "\n",
    "def load_abstracts_from_folder(folder_path, label):\n",
    "    data = []\n",
    "    for filename in os.listdir(folder_path):\n",
    "        if filename.endswith(\".txt\"):\n",
    "            file_path = os.path.join(folder_path, filename)\n",
    "            with open(file_path, \"r\", encoding=\"utf-8\", errors=\"ignore\") as file:\n",
    "                abstract = file.read().strip()\n",
    "                data.append({\n",
    "                    \"pmid\": filename.replace(\".txt\", \"\"),\n",
    "                    \"abstract\": abstract,\n",
    "                    \"label\": label\n",
    "                })\n",
    "    return data\n",
    "\n",
    "# Load abstracts from both folders\n",
    "cancer_data = load_abstracts_from_folder(cancer_folder, \"Cancer\")\n",
    "non_cancer_data = load_abstracts_from_folder(non_cancer_folder, \"Non-Cancer\")"
   ]
  },
  {
   "cell_type": "code",
   "execution_count": 10,
   "metadata": {},
   "outputs": [],
   "source": [
    "# Combine and create DataFrame\n",
    "df = pd.DataFrame(cancer_data + non_cancer_data)\n"
   ]
  },
  {
   "cell_type": "code",
   "execution_count": 11,
   "metadata": {},
   "outputs": [],
   "source": [
    "import re\n",
    "\n",
    "# Function to split abstract into title and body\n",
    "def split_title_body(text):\n",
    "    # Match pattern like: <ID:...>\\nTitle: ...\\nBody...\n",
    "    title_match = re.search(r\"Title:\\s*(.*?)\\n\", text)\n",
    "    title = title_match.group(1).strip() if title_match else \"\"\n",
    "    \n",
    "    # Remove ID and Title lines\n",
    "    body = re.sub(r\"<ID:\\d+>\\nTitle:.*?\\n\", \"\", text, flags=re.DOTALL).strip()\n",
    "    return title, body\n",
    "\n",
    "# Apply to each row\n",
    "df[\"title\"], df[\"body\"] = zip(*df[\"abstract\"].map(split_title_body))\n",
    "\n",
    "# Drop original 'abstract' column\n",
    "df.drop(columns=[\"abstract\"], inplace=True)\n",
    "\n",
    "df.to_csv(\"cleaned_csv.csv\",index=False)\n"
   ]
  },
  {
   "cell_type": "code",
   "execution_count": 12,
   "metadata": {},
   "outputs": [
    {
     "data": {
      "text/plain": [
       "968"
      ]
     },
     "execution_count": 12,
     "metadata": {},
     "output_type": "execute_result"
    }
   ],
   "source": [
    "max([len(df[\"body\"][i]) for i in (0,999)])"
   ]
  }
 ],
 "metadata": {
  "kernelspec": {
   "display_name": ".venv",
   "language": "python",
   "name": "python3"
  },
  "language_info": {
   "codemirror_mode": {
    "name": "ipython",
    "version": 3
   },
   "file_extension": ".py",
   "mimetype": "text/x-python",
   "name": "python",
   "nbconvert_exporter": "python",
   "pygments_lexer": "ipython3",
   "version": "3.8.10"
  }
 },
 "nbformat": 4,
 "nbformat_minor": 2
}
